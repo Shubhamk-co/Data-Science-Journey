{
 "cells": [
  {
   "cell_type": "code",
   "execution_count": 2,
   "id": "b416b30b-94b1-4d33-ab84-511308ef196e",
   "metadata": {},
   "outputs": [
    {
     "name": "stdout",
     "output_type": "stream",
     "text": [
      "<class 'float'>\n"
     ]
    }
   ],
   "source": [
    "#type conversion(explicit)\n",
    "x=10\n",
    "y=float(x)\n",
    "print(type(y))"
   ]
  },
  {
   "cell_type": "code",
   "execution_count": 3,
   "id": "048075b6-4c04-4c4d-bd44-05e7d338bcd7",
   "metadata": {},
   "outputs": [
    {
     "name": "stdout",
     "output_type": "stream",
     "text": [
      "<class 'float'>\n"
     ]
    }
   ],
   "source": [
    "#type conversion (implicit)\n",
    "x=10\n",
    "y=10.5\n",
    "result=x+y\n",
    "print(type(result))\n"
   ]
  },
  {
   "cell_type": "code",
   "execution_count": null,
   "id": "a532a9f3-6e0a-4b12-96eb-e06f8d960091",
   "metadata": {},
   "outputs": [
    {
     "name": "stdin",
     "output_type": "stream",
     "text": [
      "Enter pruduct name : milk\n",
      "enter product quantity: 5\n"
     ]
    }
   ],
   "source": [
    "product=input(\"Enter product name :\")\n",
    "Quantity=int(input(\"enter product quantity:\"))\n",
    "price=int(input(\"enter product price\"))\n",
    "total=Quantity*price\n",
    "print(f\"total price {product} is:\",total)\n"
   ]
  },
  {
   "cell_type": "code",
   "execution_count": null,
   "id": "f4c38d3b-2849-49d8-bc53-782dfcbba11c",
   "metadata": {},
   "outputs": [],
   "source": [
    "#control statement \n",
    "1)if\n",
    "2)else \n",
    "3)elif"
   ]
  },
  {
   "cell_type": "code",
   "execution_count": 10,
   "id": "37c276f1-ea67-4588-8ac0-b7f11b9508f9",
   "metadata": {},
   "outputs": [
    {
     "name": "stdout",
     "output_type": "stream",
     "text": [
      "bye\n"
     ]
    }
   ],
   "source": [
    "a=10\n",
    "if a>15:\n",
    "    print(\"hello\")\n",
    "else :\n",
    "    print(\"bye\")"
   ]
  },
  {
   "cell_type": "code",
   "execution_count": 20,
   "id": "e638a075-6725-4010-8c9e-95f972d5255e",
   "metadata": {},
   "outputs": [
    {
     "name": "stdin",
     "output_type": "stream",
     "text": [
      "Enter month: july\n"
     ]
    },
    {
     "name": "stdout",
     "output_type": "stream",
     "text": [
      "Monsoon Season\n"
     ]
    }
   ],
   "source": [
    "month=input(\"Enter month:\")\n",
    "if month==\"december\"or month==\"january\" or month==\"fenbruary\" :\n",
    "    print(\"winter season\")\n",
    "elif month==\"march\" or month==\"april\" or month==\"may\" or month==\"june\":\n",
    "    print(\"summer season\")\n",
    "elif month in [\"july\", \"august\", \"septsember\"]:  #this is using of list \n",
    "    print(\"Monsoon Season\")\n",
    "else :\n",
    "    print(\"autumn\")"
   ]
  },
  {
   "cell_type": "code",
   "execution_count": 2,
   "id": "d2cc6685-1943-4e49-b396-62319a7e6328",
   "metadata": {},
   "outputs": [
    {
     "name": "stdout",
     "output_type": "stream",
     "text": [
      "<class 'str'>\n"
     ]
    }
   ],
   "source": [
    "# a=\"name\"\n",
    "# b=int(a)\n",
    "# print(type(b))\n",
    "#we can not convert to \"name\" to integer \n",
    "c=\"12345\"\n",
    "d=int(c)\n",
    "print(type(c))\n",
    "#and we can change to \"12346\" to string "
   ]
  },
  {
   "cell_type": "code",
   "execution_count": null,
   "id": "ba6713d3-6673-4a1c-92e9-257451580d9f",
   "metadata": {},
   "outputs": [],
   "source": [
    "#in use for searching\n",
    "#is use for comparing"
   ]
  },
  {
   "cell_type": "code",
   "execution_count": 31,
   "id": "0e87c146-66f3-46e4-8bbf-b35492172648",
   "metadata": {},
   "outputs": [
    {
     "name": "stdin",
     "output_type": "stream",
     "text": [
      "Enter vehicle (car/bike):  bike\n",
      "Enter buy year:  2000\n"
     ]
    },
    {
     "name": "stdout",
     "output_type": "stream",
     "text": [
      "Not valid\n"
     ]
    }
   ],
   "source": [
    "vehicle = input(\"Enter vehicle (car/bike): \")\n",
    "buy_year = int(input(\"Enter buy year: \"))\n",
    "\n",
    "if vehicle == \"car\" and 2010 <= buy_year < 2025:\n",
    "    print(\"Expire in 15 years\")\n",
    "elif vehicle == \"bike\" and 2015 <= buy_year < 2025:\n",
    "    print(\"Expire in 10 years\")\n",
    "else:\n",
    "    print(\"Not valid\")"
   ]
  },
  {
   "cell_type": "code",
   "execution_count": null,
   "id": "c12aaa0a-7080-4bfa-8cee-a3b1d4397529",
   "metadata": {},
   "outputs": [],
   "source": [
    "#loops\n",
    "for\n",
    "while (entry-controlled loop)\n"
   ]
  },
  {
   "cell_type": "code",
   "execution_count": 34,
   "id": "097ee09b-af85-49c2-96d3-d077c1ce7f64",
   "metadata": {},
   "outputs": [
    {
     "name": "stdout",
     "output_type": "stream",
     "text": [
      "1\n",
      "2\n",
      "3\n",
      "4\n",
      "5\n"
     ]
    }
   ],
   "source": [
    "#while loop example\n",
    "i = 1\n",
    "while i<= 5:\n",
    "    print(i)\n",
    "    i+= 1"
   ]
  }
 ],
 "metadata": {
  "kernelspec": {
   "display_name": "anaconda-panel-2023.05-py310",
   "language": "python",
   "name": "conda-env-anaconda-panel-2023.05-py310-py"
  },
  "language_info": {
   "codemirror_mode": {
    "name": "ipython",
    "version": 3
   },
   "file_extension": ".py",
   "mimetype": "text/x-python",
   "name": "python",
   "nbconvert_exporter": "python",
   "pygments_lexer": "ipython3",
   "version": "3.11.5"
  }
 },
 "nbformat": 4,
 "nbformat_minor": 5
}
