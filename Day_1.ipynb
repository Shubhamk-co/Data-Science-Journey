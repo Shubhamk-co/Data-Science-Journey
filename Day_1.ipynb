{
 "cells": [
  {
   "cell_type": "code",
   "execution_count": null,
   "id": "2e51a713-335d-4da9-8d8b-abd2d3bd0e31",
   "metadata": {},
   "outputs": [],
   "source": [
    "fundamental types \n",
    "1)Integer \n",
    "2)float \n",
    "3)string \n",
    "4)complex number \n",
    "5)booleans"
   ]
  },
  {
   "cell_type": "code",
   "execution_count": null,
   "id": "960a88de-1737-4d44-bdd3-05e7606ae5cc",
   "metadata": {},
   "outputs": [],
   "source": [
    "#variables\n",
    "a=10\n",
    "1shu=10"
   ]
  },
  {
   "cell_type": "code",
   "execution_count": 8,
   "id": "bca8613a-7ab1-4fc1-9a42-c651e7ec56ca",
   "metadata": {},
   "outputs": [
    {
     "name": "stdin",
     "output_type": "stream",
     "text": [
      "Enter first number  2\n",
      "Enter second number  88\n",
      "Enter operater  //\n"
     ]
    },
    {
     "name": "stdout",
     "output_type": "stream",
     "text": [
      "floor division : 0\n"
     ]
    }
   ],
   "source": [
    "#calculator (arithmetic operator )\n",
    "\n",
    "a=int(input(\"Enter first number \"))\n",
    "b=int(input(\"Enter second number \"))\n",
    "c=input(\"Enter operater \")\n",
    "if c==\"+\":\n",
    "    print(\"sum :\",a+b)\n",
    "elif c==\"-\":\n",
    "    print(\"subtraction :\",a-b)\n",
    "elif c==\"*\":\n",
    "    print(\"multiplication :\",a*b)\n",
    "elif c==\"/\":\n",
    "    print(\"division:\",a/b)\n",
    "elif c==\"%\":\n",
    "    print(\"modulo  :\",a%b)\n",
    "elif c==\"**\":\n",
    "    print(\"Exponentiation :\",a**b)\n",
    "elif c==\"//\":\n",
    "    print(\"floor division :\",a//b)\n",
    "else :\n",
    "    print(\"Invlaid input\")\n"
   ]
  },
  {
   "cell_type": "code",
   "execution_count": 18,
   "id": "ef03e0fd-1172-4fbf-aa12-9f236e9acb00",
   "metadata": {},
   "outputs": [
    {
     "name": "stdout",
     "output_type": "stream",
     "text": [
      "13\n",
      "6\n"
     ]
    }
   ],
   "source": [
    "\n",
    "#prefix operator\n",
    "b=8\n",
    "b+=5\n",
    "print(b)\n",
    "\n",
    "#postfix operator\n",
    "c=3\n",
    "c=+6\n",
    "print(c)"
   ]
  },
  {
   "cell_type": "code",
   "execution_count": 19,
   "id": "38c07ab6-6e3f-405e-a29e-6730cdd5a951",
   "metadata": {},
   "outputs": [
    {
     "name": "stdout",
     "output_type": "stream",
     "text": [
      "False\n",
      "True\n",
      "False\n",
      "True\n",
      "True\n",
      "False\n"
     ]
    }
   ],
   "source": [
    "#Assignment operator\n",
    "a = 10\n",
    "b = 20\n",
    "\n",
    "#comparison operator\n",
    "print(a == b)   \n",
    "print(a != b)   \n",
    "print(a > b)    \n",
    "print(a < b)    \n",
    "print(a >= 10)  \n",
    "print(b <= 15)  \n"
   ]
  },
  {
   "cell_type": "code",
   "execution_count": 21,
   "id": "27aaf784-e647-4fdc-a6ad-18c0be66566a",
   "metadata": {},
   "outputs": [
    {
     "name": "stdout",
     "output_type": "stream",
     "text": [
      "True\n",
      "False\n"
     ]
    }
   ],
   "source": [
    "#Membership operator\n",
    "number = \"123456789\"\n",
    "print('9' in number)        \n",
    "print('2' not in number)   "
   ]
  },
  {
   "cell_type": "code",
   "execution_count": 22,
   "id": "f491b355-a961-492d-bc41-4cc739226444",
   "metadata": {},
   "outputs": [
    {
     "name": "stdout",
     "output_type": "stream",
     "text": [
      "1\n",
      "7\n"
     ]
    }
   ],
   "source": [
    "#Bitwise logical operators\n",
    "a = 5    # binary\n",
    "b = 3    \n",
    "\n",
    "print(a & b)   \n",
    "print(a | b)  "
   ]
  },
  {
   "cell_type": "code",
   "execution_count": 23,
   "id": "05a49b50-1256-460d-8c5f-05a8b41fc978",
   "metadata": {},
   "outputs": [
    {
     "name": "stdout",
     "output_type": "stream",
     "text": [
      "True\n",
      "False\n"
     ]
    }
   ],
   "source": [
    "#Identical operator\n",
    "x = 100\n",
    "y = 100\n",
    "print(x is y) \n",
    "print(x is not y) #we will be using this operator later "
   ]
  }
 ],
 "metadata": {
  "kernelspec": {
   "display_name": "anaconda-2024.02-py310",
   "language": "python",
   "name": "conda-env-anaconda-2024.02-py310-py"
  },
  "language_info": {
   "codemirror_mode": {
    "name": "ipython",
    "version": 3
   },
   "file_extension": ".py",
   "mimetype": "text/x-python",
   "name": "python",
   "nbconvert_exporter": "python",
   "pygments_lexer": "ipython3",
   "version": "3.10.14"
  }
 },
 "nbformat": 4,
 "nbformat_minor": 5
}
