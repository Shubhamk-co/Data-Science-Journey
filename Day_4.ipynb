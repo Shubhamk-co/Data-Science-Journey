{
 "cells": [
  {
   "cell_type": "code",
   "execution_count": 1,
   "id": "848ddd64-ece9-499b-8b41-561c446d2e4d",
   "metadata": {},
   "outputs": [
    {
     "name": "stdout",
     "output_type": "stream",
     "text": [
      " 2.4\n"
     ]
    }
   ],
   "source": [
    "def interest(p,r,t):\n",
    "    print(\"interest is:\",(p*r*t)/100)\n",
    "interest(12,4,5)"
   ]
  },
  {
   "cell_type": "code",
   "execution_count": 16,
   "id": "edf9bcb0-900a-45ed-a185-fcec14df63d7",
   "metadata": {},
   "outputs": [
    {
     "name": "stdout",
     "output_type": "stream",
     "text": [
      "1275\n"
     ]
    }
   ],
   "source": [
    "# create a function to find the sum of all natural number between 1 to 50\n",
    "def sum_n(a,b):\n",
    "    add=0\n",
    "    for i in range(a,b):\n",
    "        add+=i\n",
    "    print(add)\n",
    "sum_n(1,51) "
   ]
  },
  {
   "cell_type": "code",
   "execution_count": 9,
   "id": "64a55310-5fbd-4cc9-9a8a-ad2506288517",
   "metadata": {},
   "outputs": [
    {
     "name": "stdout",
     "output_type": "stream",
     "text": [
      "2X1= 2\n",
      "2X2= 4\n",
      "2X3= 6\n",
      "2X4= 8\n",
      "2X5= 10\n",
      "2X6= 12\n",
      "2X7= 14\n",
      "2X8= 16\n",
      "2X9= 18\n",
      "2X10= 20\n"
     ]
    }
   ],
   "source": [
    "def table(n):\n",
    "    for i in range(1,11):\n",
    "        print(f\"{n}X{i}=\",n*i)\n",
    "table(2)"
   ]
  },
  {
   "cell_type": "code",
   "execution_count": 14,
   "id": "202ef336-12e5-4079-aa45-5d773d4cf1c2",
   "metadata": {},
   "outputs": [
    {
     "name": "stdout",
     "output_type": "stream",
     "text": [
      "625\n"
     ]
    }
   ],
   "source": [
    "#find the sum of odd number \n",
    "def odd_n(a,b):\n",
    "    sum_odd=0\n",
    "    for i in range(a,b):\n",
    "        if i%2!=0:\n",
    "            sum_odd+=i\n",
    "    print(sum_odd)\n",
    "odd_n(1,51)"
   ]
  },
  {
   "cell_type": "code",
   "execution_count": 23,
   "id": "0674c049-6143-4449-a8e6-beae1bbb6894",
   "metadata": {},
   "outputs": [
    {
     "name": "stdout",
     "output_type": "stream",
     "text": [
      "30\n",
      "None\n"
     ]
    }
   ],
   "source": [
    "def add(a,b):\n",
    "    c=a+b\n",
    "    print(c)\n",
    "sum=add(10,20)\n",
    "print(sum)"
   ]
  },
  {
   "cell_type": "code",
   "execution_count": 22,
   "id": "4f74b271-3a1b-4f82-afd2-1ba8606cf077",
   "metadata": {},
   "outputs": [
    {
     "name": "stdout",
     "output_type": "stream",
     "text": [
      "30\n"
     ]
    }
   ],
   "source": [
    "def add(a,b):\n",
    "    c=a+b\n",
    "    return c\n",
    "sum_n=add(10,20)\n",
    "print(sum_n)\n"
   ]
  },
  {
   "cell_type": "code",
   "execution_count": 24,
   "id": "6a6663e5-5f5f-4fce-b3e5-ef21acf21fe7",
   "metadata": {},
   "outputs": [
    {
     "data": {
      "text/plain": [
       "15.9"
      ]
     },
     "execution_count": 24,
     "metadata": {},
     "output_type": "execute_result"
    }
   ],
   "source": [
    "# lambda function\n",
    "add =lambda a,b:a+b\n",
    "add(12.9,3)"
   ]
  },
  {
   "cell_type": "code",
   "execution_count": 1,
   "id": "cb81bc9c-658a-4344-a25d-ffbfe33a04e4",
   "metadata": {},
   "outputs": [],
   "source": [
    "# try:\n",
    "#     print(10/0)"
   ]
  },
  {
   "cell_type": "code",
   "execution_count": 28,
   "id": "216b4813-90de-4e95-975f-089f24f9686d",
   "metadata": {},
   "outputs": [
    {
     "name": "stdout",
     "output_type": "stream",
     "text": [
      "120\n"
     ]
    }
   ],
   "source": [
    "def factorial(n):\n",
    "    if n==1:\n",
    "        return 1\n",
    "    return n * factorial(n-1)\n",
    "print(factorial(5))"
   ]
  },
  {
   "cell_type": "code",
   "execution_count": 31,
   "id": "dd96642f-40b6-4068-8c09-6fa01360c53e",
   "metadata": {},
   "outputs": [
    {
     "name": "stdin",
     "output_type": "stream",
     "text": [
      "Enter numerator: 10\n",
      "Enter denominator  15\n"
     ]
    },
    {
     "name": "stdout",
     "output_type": "stream",
     "text": [
      "Result is  0.6666666666666666\n",
      "program ended .thank you\n"
     ]
    }
   ],
   "source": [
    "try:\n",
    "    num1= int (input(\"Enter numerator:\"))\n",
    "    num2= int(input(\"Enter denominator \"))\n",
    "    result = num1 /num2\n",
    "except ZeroDivisionError:\n",
    "    print(\"Error:please enter valid integer only:\")\n",
    "else :\n",
    "    print(\"Result is \",result)\n",
    "finally:\n",
    "    print(\"program ended .thank you\")"
   ]
  },
  {
   "cell_type": "code",
   "execution_count": 34,
   "id": "bc01ca66-76f2-482c-a098-66fc35abd513",
   "metadata": {},
   "outputs": [
    {
     "name": "stdin",
     "output_type": "stream",
     "text": [
      "Enter a number  1548\n"
     ]
    },
    {
     "name": "stdout",
     "output_type": "stream",
     "text": [
      "8451\n"
     ]
    }
   ],
   "source": [
    "num=int(input(\"Enter a number \"))\n",
    "rev=0\n",
    "for i in str(num):\n",
    "    deg=num%10\n",
    "    rev=rev*10+deg\n",
    "    num=num//10\n",
    "print(rev)\n",
    "    "
   ]
  },
  {
   "cell_type": "code",
   "execution_count": 35,
   "id": "dbf435eb-bc18-4d34-a6bc-bb7075bd2a4f",
   "metadata": {},
   "outputs": [
    {
     "data": {
      "text/plain": [
       "25"
      ]
     },
     "execution_count": 35,
     "metadata": {},
     "output_type": "execute_result"
    }
   ],
   "source": [
    "def square(n):\n",
    "    num=n*n\n",
    "    return num\n",
    "square(5)"
   ]
  },
  {
   "cell_type": "code",
   "execution_count": 36,
   "id": "0d67d67f-43e1-4d39-8407-07531b5b1207",
   "metadata": {},
   "outputs": [
    {
     "data": {
      "text/plain": [
       "8"
      ]
     },
     "execution_count": 36,
     "metadata": {},
     "output_type": "execute_result"
    }
   ],
   "source": [
    "def add(a,b):\n",
    "    result =a+b\n",
    "    return result\n",
    "add(3,5)"
   ]
  },
  {
   "cell_type": "code",
   "execution_count": 39,
   "id": "5b79296d-aa22-4369-94ae-2ba6606720f7",
   "metadata": {},
   "outputs": [
    {
     "name": "stdout",
     "output_type": "stream",
     "text": [
      "number is even: 8\n"
     ]
    }
   ],
   "source": [
    "def even(num):\n",
    "    if num%2==0:\n",
    "        print(\"number is even:\",num)\n",
    "even(8)"
   ]
  },
  {
   "cell_type": "code",
   "execution_count": 43,
   "id": "2ddd8340-7972-4be5-a30e-424bfdd8d9fa",
   "metadata": {},
   "outputs": [
    {
     "name": "stdin",
     "output_type": "stream",
     "text": [
      "Enter a string : shubham\n"
     ]
    },
    {
     "name": "stdout",
     "output_type": "stream",
     "text": [
      "Reversed string: mahbuhs\n"
     ]
    }
   ],
   "source": [
    "def reverse_string(s):\n",
    "    return s[::-1]\n",
    "orig= input(\"Enter a string :\")\n",
    "reversed_str = reverse_string(orig)\n",
    "print(\"Reversed string:\", reversed_str)"
   ]
  },
  {
   "cell_type": "code",
   "execution_count": 45,
   "id": "3b29bcf1-e26b-40a9-9016-8d593364721f",
   "metadata": {},
   "outputs": [
    {
     "name": "stdout",
     "output_type": "stream",
     "text": [
      "Fibonacci series: [0, 1, 2, 4, 8, 16, 32, 64, 128, 256]\n"
     ]
    }
   ],
   "source": [
    "def fibonacci_series(n):\n",
    "    fib = []\n",
    "    a=0\n",
    "    b=1\n",
    "    for i in range(n):\n",
    "        fib.append(a)\n",
    "        a= b\n",
    "        b=a + b\n",
    "    return fib\n",
    "\n",
    "terms = 10\n",
    "print(\"Fibonacci series:\", fibonacci_series(terms))"
   ]
  },
  {
   "cell_type": "code",
   "execution_count": 48,
   "id": "6fa82496-9d99-4a81-a2bc-3e667b09c7fc",
   "metadata": {},
   "outputs": [
    {
     "name": "stdin",
     "output_type": "stream",
     "text": [
      "enter a string : shubham\n"
     ]
    },
    {
     "name": "stdout",
     "output_type": "stream",
     "text": [
      "Number of vowels: 2\n"
     ]
    }
   ],
   "source": [
    "def words(str):\n",
    "    count=0\n",
    "    vowels = \"aeiou\"  \n",
    "    for char in str:\n",
    "        if char in vowels:\n",
    "            count += 1\n",
    "    print(\"Number of vowels:\", count)\n",
    "user_input=input(\"enter a string :\")\n",
    "words(user_input)"
   ]
  },
  {
   "cell_type": "code",
   "execution_count": 2,
   "id": "458beb26-a715-4874-b679-523963b28a18",
   "metadata": {},
   "outputs": [
    {
     "name": "stdout",
     "output_type": "stream",
     "text": [
      "15\n",
      "None\n"
     ]
    }
   ],
   "source": [
    "def total_sum(*args):\n",
    "    print(sum(args))\n",
    "print(total_sum(1, 2, 3, 4, 5))"
   ]
  },
  {
   "cell_type": "code",
   "execution_count": null,
   "id": "36f71f9c-2a62-4540-aefc-38c4d1a22d8a",
   "metadata": {},
   "outputs": [],
   "source": [
    "def palindrom():\n",
    "    for i in rangr[::-1]\n",
    "    print(\"\")"
   ]
  },
  {
   "cell_type": "code",
   "execution_count": 55,
   "id": "5ca86481-e145-4d2b-b012-b7351d57611b",
   "metadata": {},
   "outputs": [
    {
     "data": {
      "text/plain": [
       "function"
      ]
     },
     "execution_count": 55,
     "metadata": {},
     "output_type": "execute_result"
    }
   ],
   "source": [
    "# type(lambda x: x)"
   ]
  },
  {
   "cell_type": "code",
   "execution_count": 58,
   "id": "e32c5b45-4527-47e1-856d-4fbc401b51c5",
   "metadata": {},
   "outputs": [
    {
     "name": "stdout",
     "output_type": "stream",
     "text": [
      "<class 'bool'>\n"
     ]
    }
   ],
   "source": [
    "bool('False')\n",
    "print(bool)"
   ]
  },
  {
   "cell_type": "code",
   "execution_count": 65,
   "id": "87a070a1-e1f1-41b1-b898-02de6388d9ff",
   "metadata": {},
   "outputs": [
    {
     "name": "stdin",
     "output_type": "stream",
     "text": [
      "enter password : shubham\n"
     ]
    },
    {
     "name": "stdout",
     "output_type": "stream",
     "text": [
      "Access granted....\n"
     ]
    }
   ],
   "source": [
    "def pss():\n",
    "    password = \"shubham\"\n",
    "    attempt=3\n",
    "    for i in range (attempt):\n",
    "        user_input=input(\"enter password :\")\n",
    "        if password==user_input:\n",
    "            print(\"Access granted....\")\n",
    "            break\n",
    "        else:\n",
    "            attempt-=1\n",
    "            print(f\"wrong password {attempt}.....\")\n",
    "pss()"
   ]
  },
  {
   "cell_type": "code",
   "execution_count": null,
   "id": "12487af3-2ed6-4d54-be1f-2bac27325f64",
   "metadata": {},
   "outputs": [],
   "source": []
  }
 ],
 "metadata": {
  "kernelspec": {
   "display_name": "anaconda-panel-2023.05-py310",
   "language": "python",
   "name": "conda-env-anaconda-panel-2023.05-py310-py"
  },
  "language_info": {
   "codemirror_mode": {
    "name": "ipython",
    "version": 3
   },
   "file_extension": ".py",
   "mimetype": "text/x-python",
   "name": "python",
   "nbconvert_exporter": "python",
   "pygments_lexer": "ipython3",
   "version": "3.11.5"
  }
 },
 "nbformat": 4,
 "nbformat_minor": 5
}
