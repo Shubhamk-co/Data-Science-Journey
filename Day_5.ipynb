{
 "cells": [
  {
   "cell_type": "code",
   "execution_count": 12,
   "id": "472d2828-d766-4ae0-a6d3-d34b1375c908",
   "metadata": {},
   "outputs": [],
   "source": [
    "# data structures\n",
    "# -->how to organized data in form of list ,dict,tuple.\n",
    "# list\n",
    "# list are the most commonly used data and is mutable(add,delete)(changes allowed ) .list is index-based .heterogeneous supports(int,)"
   ]
  },
  {
   "cell_type": "code",
   "execution_count": 27,
   "id": "6383c0da-8370-4956-bb99-56afa61f8161",
   "metadata": {},
   "outputs": [
    {
     "name": "stdout",
     "output_type": "stream",
     "text": [
      "append at end: [1, 2, 2, 3, 4, 5, 3]\n",
      "insert at given index : [50, 1, 2, 2, 3, 4, 5, 3]\n",
      "extend at end : [50, 1, 2, 2, 3, 4, 5, 3, 55, 66]\n",
      "pop at end : [50, 1, 2, 2, 3, 4, 5, 3, 55]\n",
      "remove element  [50, 2, 2, 3, 4, 5, 3, 55]\n",
      "clear all element:  []\n",
      "print at index value  1\n",
      "count occurence 2\n",
      "[2, 4, 4, 5, 6, 7, 89]\n",
      "[89, 7, 6, 5, 4, 4, 2]\n",
      "[89, 7, 6, 5, 4, 4, 2]\n"
     ]
    }
   ],
   "source": [
    "# list Method\n",
    "# append()=>append add value at end. \n",
    "lst=[1,2,2,3,4,5]\n",
    "lst.append(3)\n",
    "print(\"append at end:\",lst)\n",
    "# insert()=>insert at index. (a.insert(index,element)\n",
    "lst.insert(0,50)\n",
    "print(\"insert at given index :\",lst)\n",
    "# extend()=>add multiple items(a.extend([1,2])\n",
    "lst.extend([55,66])\n",
    "print(\"extend at end :\",lst)\n",
    "# pop=>remove last item(a.pop())\n",
    "lst.pop()\n",
    "print(\"pop at end :\",lst)\n",
    "# remove=>remove first match value\n",
    "lst.remove(1)\n",
    "print(\"remove element \",lst)\n",
    "# clear=>remove all element \n",
    "lst.clear()\n",
    "print(\"clear all element: \",lst)\n",
    "# index=>Get index of value(a.index(5))\n",
    "a=[4,5,6,4,7,89,2]\n",
    "b=[]\n",
    "c=a.index(5)\n",
    "print(\"print at index value \",c)\n",
    "# count=>count occurrence(a.count(10))\n",
    "d=a.count(4)\n",
    "print(\"count occurence\",d)\n",
    "#sort=>sort ascending order\n",
    "a.sort()\n",
    "print(a)\n",
    "# reverse=> reverse list (a.reverse)\n",
    "a.reverse()\n",
    "print(a)\n",
    "# copy() copy list (b=a.copy())\n",
    "b=a.copy()\n",
    "print(b)\n",
    "# print(b)\n",
    "# why use .?\n",
    "# (join )concatenate karta hai method k sath"
   ]
  },
  {
   "cell_type": "code",
   "execution_count": 38,
   "id": "7e14f78b-1afd-4764-8b6a-b996b2b3aa8f",
   "metadata": {},
   "outputs": [
    {
     "name": "stdin",
     "output_type": "stream",
     "text": [
      "enter a number : 4\n",
      "enter a number : 6\n",
      "enter a number : 3\n",
      "enter a number : 7\n",
      "enter a number : 9\n"
     ]
    },
    {
     "name": "stdout",
     "output_type": "stream",
     "text": [
      "['4', '6', '3', '7', '9']\n"
     ]
    }
   ],
   "source": [
    "# Create an empty list and take 5 numbers as input from the user. Append each number to the list and display the final list.\n",
    "lst=[]\n",
    "for i in range(1,6):\n",
    "    a=(input(\"enter a number :\"))\n",
    "    lst.append(a)\n",
    "print(lst)"
   ]
  },
  {
   "cell_type": "code",
   "execution_count": 41,
   "id": "623cc3aa-351d-48da-bb53-bc857f6f3abc",
   "metadata": {},
   "outputs": [
    {
     "name": "stdout",
     "output_type": "stream",
     "text": [
      "[[1, 2, 3], [4, 5, 6]]\n"
     ]
    }
   ],
   "source": [
    "# Create two lists: list1 = [1, 2, 3] and list2 = [4, 5, 6]. Extend list1 using list2 and print the updated list.\n",
    "list1 = [1, 2, 3]\n",
    "list2 = [4, 5, 6]\n",
    "lst=[]\n",
    "lst.extend([list1,list2])\n",
    "print(lst)"
   ]
  },
  {
   "cell_type": "code",
   "execution_count": 42,
   "id": "802aad9f-275f-4c2d-bdbb-d31c39259877",
   "metadata": {},
   "outputs": [
    {
     "name": "stdout",
     "output_type": "stream",
     "text": [
      "[10, 20, 25, 30, 40]\n"
     ]
    }
   ],
   "source": [
    "# Insert the value 25 at index 2 in the list: l = [10, 20, 30, 40].\n",
    "l = [10, 20, 30, 40]\n",
    "l.insert(2,25)\n",
    "print(l)"
   ]
  },
  {
   "cell_type": "code",
   "execution_count": 44,
   "id": "b0a4af21-1be9-456a-a336-ed737ec80fce",
   "metadata": {},
   "outputs": [
    {
     "name": "stdout",
     "output_type": "stream",
     "text": [
      "2\n"
     ]
    }
   ],
   "source": [
    "# Remove the first occurrence of the value 20 from the list: l = [10, 20, 30, 20, 40]\n",
    "l = [10, 20, 30, 20, 40]\n",
    "a=l.count(20)\n",
    "print(a)"
   ]
  },
  {
   "cell_type": "code",
   "execution_count": 45,
   "id": "95f1d46a-6316-4904-adfb-dd68c85adb7c",
   "metadata": {},
   "outputs": [
    {
     "name": "stdout",
     "output_type": "stream",
     "text": [
      "[1, 2, 3, 4]\n"
     ]
    }
   ],
   "source": [
    "# Pop the last element from the list [1, 2, 3, 4, 5] and display both the popped item and the updated list.\n",
    "lst=[1, 2, 3, 4, 5]\n",
    "lst.pop()\n",
    "print(lst)"
   ]
  },
  {
   "cell_type": "code",
   "execution_count": 52,
   "id": "26c7c012-df74-4bc6-a8ef-ecc7e53f900d",
   "metadata": {},
   "outputs": [
    {
     "name": "stdout",
     "output_type": "stream",
     "text": [
      "2\n"
     ]
    }
   ],
   "source": [
    "# Find and print the index of the element 15 in the list [5, 10, 15, 20, 25].\n",
    "lst=[5, 10, 15, 20, 25]\n",
    "a=lst.index(15)\n",
    "print(a)"
   ]
  },
  {
   "cell_type": "code",
   "execution_count": 53,
   "id": "727cfbd1-1228-4b21-abe4-27865e7e7c89",
   "metadata": {},
   "outputs": [
    {
     "name": "stdout",
     "output_type": "stream",
     "text": [
      "4\n"
     ]
    }
   ],
   "source": [
    "# Count how many times the number 2 appears in the list [1, 2, 2, 3, 2, 4, 2].\n",
    "lst=[1, 2, 2, 3, 2, 4, 2]\n",
    "a=lst.count(2)\n",
    "print(a)\n"
   ]
  },
  {
   "cell_type": "code",
   "execution_count": 56,
   "id": "ae659d03-2eb6-4079-9d4e-02b5fb00ad35",
   "metadata": {},
   "outputs": [
    {
     "name": "stdout",
     "output_type": "stream",
     "text": [
      "[3, 7, 5, 10]\n"
     ]
    }
   ],
   "source": [
    "# Sort the list [10, 5, 7, 3] in both ascending and descending order.\n",
    "lst=[10, 5, 7, 3]\n",
    "lst.reverse()\n",
    "print(lst)\n",
    "# lst.sort()\n",
    "# print(lst)"
   ]
  },
  {
   "cell_type": "code",
   "execution_count": 58,
   "id": "dec57f55-5431-4ad9-b9e0-2d9b8104abe5",
   "metadata": {},
   "outputs": [
    {
     "name": "stdout",
     "output_type": "stream",
     "text": [
      "[5, 4, 3, 2, 1]\n"
     ]
    }
   ],
   "source": [
    "# Reverse the list [1, 2, 3, 4, 5] using the reverse() method.\n",
    "rev=[1, 2, 3, 4, 5]\n",
    "rev.reverse()\n",
    "print(rev)"
   ]
  },
  {
   "cell_type": "code",
   "execution_count": 7,
   "id": "4d527731-f55b-4ef3-bd58-41128ca7fec9",
   "metadata": {},
   "outputs": [
    {
     "name": "stdout",
     "output_type": "stream",
     "text": [
      "copy list [1, 2, 3, 5]\n",
      "org list [1, 2, 3]\n"
     ]
    }
   ],
   "source": [
    "# Copy the list [1, 2, 3] to a new list, make changes in the copied list, and show that the original list remains unchanged.\n",
    "lst = [1, 2, 3]\n",
    "b = []           \n",
    "c = lst.copy()     \n",
    "c.append(5)      \n",
    "print(\"copy list\", c)  \n",
    "print(\"org list\", lst)  "
   ]
  },
  {
   "cell_type": "code",
   "execution_count": 12,
   "id": "7d8bf1c7-0d84-4183-a52c-a71c2f38bbe7",
   "metadata": {},
   "outputs": [
    {
     "name": "stdin",
     "output_type": "stream",
     "text": [
      "Enter a number 1: 1\n",
      "Enter a number 2: 2\n",
      "Enter a number 3: 3\n",
      "Enter a number 4: 4\n",
      "Enter a number 5: 5\n",
      "Enter a number 6: 6\n",
      "Enter a number 7: 7\n",
      "Enter a number 8: 8\n",
      "Enter a number 9: 9\n",
      "Enter a number 10: 10\n"
     ]
    },
    {
     "name": "stdout",
     "output_type": "stream",
     "text": [
      "[1, 2, 3, 4, 5, 6, 7, 8, 9, 10]\n",
      "[1, 2, 3, 4, 5, 6, 7, 8, 9, 10]\n",
      "second largest number 9\n"
     ]
    }
   ],
   "source": [
    "# Write a program to take a list of 10 integers as input and print the second largest number using list methods.\n",
    "lst=[]\n",
    "a=0\n",
    "for i in range(0,10):\n",
    "    a=int(input(f\"Enter a number {i+1}:\"))\n",
    "    lst.append(a)\n",
    "print(lst)\n",
    "lst.sort()\n",
    "print(lst)\n",
    "sec_largest=lst[-2]\n",
    "print(\"second largest number\",sec_largest)"
   ]
  },
  {
   "cell_type": "code",
   "execution_count": 26,
   "id": "5c8b9c1e-94ed-4349-ba18-ddcf2c2e403b",
   "metadata": {},
   "outputs": [
    {
     "name": "stdout",
     "output_type": "stream",
     "text": [
      "[]\n"
     ]
    }
   ],
   "source": [
    "# 12. Write a program to remove all even numbers from a list of integers and print the updated list.\n",
    "l = [10, 20, 30, 40, 50, 60, 70]\n",
    "new_lst = []\n",
    "\n",
    "for i in l:\n",
    "    if i % 2 != 0: \n",
    "        new_lst.insert(i)\n",
    "print(new_lst)"
   ]
  },
  {
   "cell_type": "code",
   "execution_count": 57,
   "id": "e92ba2ae-0fc8-410d-ae88-ddc60d902685",
   "metadata": {},
   "outputs": [
    {
     "name": "stdin",
     "output_type": "stream",
     "text": [
      "Enter a name:  shubham\n"
     ]
    },
    {
     "name": "stdout",
     "output_type": "stream",
     "text": [
      "['yash', 'anurag', 'nishant']\n"
     ]
    }
   ],
   "source": [
    "# 13. Create a list of student names. Ask the user to enter a name, and remove that name from the list if it exists.\n",
    "student_name = [\"shubham\", \"yash\", \"anurag\", \"nishant\"]\n",
    "name = input(\"Enter a name: \")\n",
    "if name in student_name:\n",
    "    student_name.remove(name)\n",
    "else:\n",
    "    print(\"Name not found in the list\")\n",
    "print(student_name)"
   ]
  },
  {
   "cell_type": "code",
   "execution_count": 32,
   "id": "75fa3afa-578d-4d5a-9aa5-1fb33ee166a2",
   "metadata": {},
   "outputs": [
    {
     "data": {
      "text/plain": [
       "[1, 4, 9]"
      ]
     },
     "execution_count": 32,
     "metadata": {},
     "output_type": "execute_result"
    }
   ],
   "source": [
    "#list comprehension\n",
    "# went we want o deal with expresion so we use list comprehension\n",
    "[i**2 for i in [1,2,3]]"
   ]
  },
  {
   "cell_type": "code",
   "execution_count": 31,
   "id": "8b3f73db-1eae-4153-8d60-1028f83c2bf6",
   "metadata": {},
   "outputs": [
    {
     "data": {
      "text/plain": [
       "[15, 14, 25, 24, 35, 34]"
      ]
     },
     "execution_count": 31,
     "metadata": {},
     "output_type": "execute_result"
    }
   ],
   "source": [
    "[10*i+j for i in [1,2,3] for j in [5,4]]"
   ]
  },
  {
   "cell_type": "code",
   "execution_count": null,
   "id": "b4360f9f-96ea-4cd4-9afc-f64b7d0937e4",
   "metadata": {},
   "outputs": [],
   "source": [
    "#tuple \n",
    "# ()\n",
    "# tuple are immutable (dose not change )\n",
    "# duplicate allowed \n",
    "# count()\n",
    "# index()"
   ]
  },
  {
   "cell_type": "code",
   "execution_count": 34,
   "id": "7d0b11f5-f29a-4900-8ba3-c0b4a84a22e4",
   "metadata": {},
   "outputs": [
    {
     "data": {
      "text/plain": [
       "3"
      ]
     },
     "execution_count": 34,
     "metadata": {},
     "output_type": "execute_result"
    }
   ],
   "source": [
    "d=tuple('a string with many \"a\"s')\n",
    "d.count('a')"
   ]
  },
  {
   "cell_type": "code",
   "execution_count": 45,
   "id": "0550b9a1-7d37-457f-b524-2d4d7d30b2eb",
   "metadata": {},
   "outputs": [
    {
     "name": "stdout",
     "output_type": "stream",
     "text": [
      "[10, 20, 30, 40]\n",
      "[50, 60, 70]\n"
     ]
    }
   ],
   "source": [
    "# string slicing \n",
    "num = [10, 20, 30, 40, 50, 60, 70]\n",
    "print(num[0:4])\n",
    "print(num[4:])"
   ]
  },
  {
   "cell_type": "code",
   "execution_count": 68,
   "id": "f1e3c20b-e807-4352-8cf9-608a587f0921",
   "metadata": {},
   "outputs": [
    {
     "name": "stdout",
     "output_type": "stream",
     "text": [
      "{1, 2, 3, 4, 5, 9}\n"
     ]
    },
    {
     "data": {
      "text/plain": [
       "2"
      ]
     },
     "execution_count": 68,
     "metadata": {},
     "output_type": "execute_result"
    }
   ],
   "source": [
    "#set=> set have unorder collection on items\n",
    "# ser1.add(0)\n",
    "# set1=set([1,2,3,4,5,6])\n",
    "# set2=set([1,2,3,7,8])\n",
    "# set1.union(set2)\n",
    "\n",
    "set={1,2,2,3,4,5}\n",
    "set.update([9])\n",
    "print(set)\n",
    "\n",
    "set.pop() #arbetatary"
   ]
  },
  {
   "cell_type": "code",
   "execution_count": 69,
   "id": "a05f0a91-8343-4c7a-be24-47bd83237807",
   "metadata": {},
   "outputs": [
    {
     "data": {
      "text/plain": [
       "3"
      ]
     },
     "execution_count": 69,
     "metadata": {},
     "output_type": "execute_result"
    }
   ],
   "source": [
    "set.pop()"
   ]
  },
  {
   "cell_type": "code",
   "execution_count": 75,
   "id": "9a6c5e39-7683-489a-bb09-879494ad4d06",
   "metadata": {},
   "outputs": [
    {
     "name": "stdout",
     "output_type": "stream",
     "text": [
      "{1, 2, 3, 4, 6}\n"
     ]
    }
   ],
   "source": [
    "set1={1,2,3,4,5,6}\n",
    "set1.remove(5)\n",
    "print(set1)"
   ]
  },
  {
   "cell_type": "code",
   "execution_count": 76,
   "id": "c7648db4-103f-449c-b3e3-d3208f36c9fa",
   "metadata": {},
   "outputs": [
    {
     "data": {
      "text/plain": [
       "{1, 2, 3}"
      ]
     },
     "execution_count": 76,
     "metadata": {},
     "output_type": "execute_result"
    }
   ],
   "source": [
    "set1={1,2,3,4,5,6}\n",
    "set2={1,2,3,7,8}\n",
    "set1.intersection(set2) # common element print karta hai"
   ]
  },
  {
   "cell_type": "code",
   "execution_count": 80,
   "id": "b490dcd7-a211-4959-99b1-55a5db874020",
   "metadata": {},
   "outputs": [
    {
     "data": {
      "text/plain": [
       "{7, 8}"
      ]
     },
     "execution_count": 80,
     "metadata": {},
     "output_type": "execute_result"
    }
   ],
   "source": [
    "set1={1,2,3,4,5,6}\n",
    "set2={1,2,3,7,8}\n",
    "set2.difference(set1)  #common element return from (jo set 1 na ho set 2 m ho)"
   ]
  },
  {
   "cell_type": "code",
   "execution_count": null,
   "id": "89427678-5b05-49f6-a175-d74a80ba698d",
   "metadata": {},
   "outputs": [],
   "source": [
    "set1={1,2,3,4,5,6}\n",
    "set2={1,2,3,7,8}\n",
    "set2.symetiric_difference(set1)\n",
    "set.issubset(set2) #(.issubset(check karna hai ))\n",
    "set.issuper(set2)"
   ]
  },
  {
   "cell_type": "code",
   "execution_count": 78,
   "id": "935e39e4-214a-4964-b6d5-7098592fefd1",
   "metadata": {},
   "outputs": [
    {
     "data": {
      "text/plain": [
       "3"
      ]
     },
     "execution_count": 78,
     "metadata": {},
     "output_type": "execute_result"
    }
   ],
   "source": [
    "# dictionaries\n",
    "# a={keys:values}\n",
    "\n",
    "d={1:\"one\",2:\"two\",3:\"three\"}\n",
    "len(d)"
   ]
  },
  {
   "cell_type": "code",
   "execution_count": 79,
   "id": "65d7244d-f667-452a-b735-488cc0b069c4",
   "metadata": {},
   "outputs": [
    {
     "data": {
      "text/plain": [
       "['one', 'two', 'three']"
      ]
     },
     "execution_count": 79,
     "metadata": {},
     "output_type": "execute_result"
    }
   ],
   "source": [
    "[v for v in d.values()]"
   ]
  },
  {
   "cell_type": "code",
   "execution_count": 101,
   "id": "007f98b3-4690-4ca2-b3ac-7ec3c2a72c47",
   "metadata": {},
   "outputs": [
    {
     "name": "stdout",
     "output_type": "stream",
     "text": [
      "one\n",
      "{1: 'one', 2: 'two', 3: 'three', 4: 'four'}\n",
      "{1: 'one', 2: 'two', 3: 'three', 4: 'four'}\n",
      "{2: 'two', 3: 'three', 4: 'four'}\n",
      "{2: 'two', 3: 'three'}\n",
      "{}\n"
     ]
    }
   ],
   "source": [
    "# get()=>return value of key\n",
    "d={1:\"one\",2:\"two\",3:\"three\"}\n",
    "print(d.get(1))\n",
    "# keys=>return all key\n",
    "d.keys()\n",
    "# value()=>return all value\n",
    "d.values()\n",
    "# items()=return key value pair \n",
    "d.items()\n",
    "# update=> add items from another dict\n",
    "d.update({4:\"four\"})\n",
    "print(d)\n",
    "# copy=>return shallow copy\n",
    "a=d.copy()\n",
    "print(a)\n",
    "# pop=>removes a key \n",
    "d.pop(1)\n",
    "print(d)\n",
    "# pop-item=>removes last key value \n",
    "d.popitem()\n",
    "print(d)\n",
    "# clear=>empties dictionary\n",
    "d.clear()\n",
    "print(d)"
   ]
  },
  {
   "cell_type": "code",
   "execution_count": 110,
   "id": "643937d2-b126-49f2-9eca-1fd9df71e876",
   "metadata": {},
   "outputs": [
    {
     "name": "stdin",
     "output_type": "stream",
     "text": [
      "enter a number : 3\n"
     ]
    },
    {
     "name": "stdout",
     "output_type": "stream",
     "text": [
      "index is : 2\n",
      "After removing elemnet: [1, 2, 3, 4, 5, 6]\n"
     ]
    }
   ],
   "source": [
    "# Create a list of numbers. Ask the user to enter a number. If it exists, print its index and remove it from the list\n",
    "num=int(input(\"enter a number :\"))\n",
    "l=[1,2,3,3,4,5,6]\n",
    "if num in l:\n",
    "    print(\"index is :\",l.index(num))\n",
    "    l.remove(num)\n",
    "    print(\"After removing elemnet:\",l)"
   ]
  },
  {
   "cell_type": "code",
   "execution_count": 111,
   "id": "1f9674a5-e6a2-4a89-9e7f-b24fb7d7bfff",
   "metadata": {},
   "outputs": [
    {
     "name": "stdout",
     "output_type": "stream",
     "text": [
      "['apple', 'grapes', 'mango', 'orange']\n"
     ]
    }
   ],
   "source": [
    " # Create a list of 5 strings. Sort the list in alphabetical order using the sort() method\n",
    "lst=[\"mango\",\"apple\",\"orange\",\"grapes\"]\n",
    "lst.sort()\n",
    "print(lst)"
   ]
  },
  {
   "cell_type": "code",
   "execution_count": 118,
   "id": "c48538df-f01c-4490-91d7-2b0668fa8732",
   "metadata": {},
   "outputs": [
    {
     "name": "stdout",
     "output_type": "stream",
     "text": [
      "3\n"
     ]
    }
   ],
   "source": [
    "# Write a program that counts how many times the word \"python\" appears in a list of words.\n",
    "lst=[\"python\",\"java\",\"c++\",\"python\",\"react\",\"python\"]\n",
    "count=lst.count(\"python\")\n",
    "print(count)"
   ]
  },
  {
   "cell_type": "code",
   "execution_count": 120,
   "id": "5c02c4ca-b977-42a5-b8db-77baefb3b72c",
   "metadata": {},
   "outputs": [
    {
     "name": "stdout",
     "output_type": "stream",
     "text": [
      "copy list  : [1, 2, 3, 4, 5, 6]\n",
      "original list [1, 2, 3, 4, 5]\n"
     ]
    }
   ],
   "source": [
    "# Make a copy of a list using the copy() method. Then modify the copied list and show that the original list is unchanged.\n",
    "a=[1,2,3,4,5]\n",
    "d=a.copy()\n",
    "d.append(6)\n",
    "print(\"copy list  :\",d)\n",
    "print(\"original list\",a)"
   ]
  },
  {
   "cell_type": "code",
   "execution_count": 121,
   "id": "b1de86f4-20d0-4d61-a5fd-e6b68c8f988f",
   "metadata": {},
   "outputs": [
    {
     "name": "stdout",
     "output_type": "stream",
     "text": [
      "[1, 2, 3, 56, 3, 4, 5, 6]\n"
     ]
    }
   ],
   "source": [
    "# Take a list of 7 numbers. Insert a number at the middle index using the insert() method.\n",
    "l=[1,2,3,3,4,5,6]\n",
    "l.insert(3,56)\n",
    "print(l)"
   ]
  },
  {
   "cell_type": "code",
   "execution_count": 8,
   "id": "ee80ca9f-65a4-48fe-977b-2c25d9c7ef35",
   "metadata": {},
   "outputs": [
    {
     "name": "stdout",
     "output_type": "stream",
     "text": [
      "7\n",
      "6\n",
      "8\n",
      "9\n",
      "5\n"
     ]
    }
   ],
   "source": [
    "a=[7,6,8,9,5]\n",
    "for i in a[:]:\n",
    "    a.pop()\n",
    "    print(i)"
   ]
  },
  {
   "cell_type": "code",
   "execution_count": 9,
   "id": "d0cf8c8c-d1b0-4a12-8504-516a9e2fdc21",
   "metadata": {},
   "outputs": [
    {
     "name": "stdout",
     "output_type": "stream",
     "text": [
      "Unique elements are:\n",
      "4\n"
     ]
    }
   ],
   "source": [
    " # Create a list of numbers and display only the unique elements using count() method \n",
    "l=[2,2,3,3,4,6,6]\n",
    "print(\"Unique elements are:\")\n",
    "for num in l:\n",
    "    if l.count(num) == 1:\n",
    "        print(num)"
   ]
  },
  {
   "cell_type": "code",
   "execution_count": null,
   "id": "1b9301cd-d02e-40fb-827e-d50294bfa83c",
   "metadata": {},
   "outputs": [],
   "source": []
  }
 ],
 "metadata": {
  "kernelspec": {
   "display_name": "anaconda-panel-2023.05-py310",
   "language": "python",
   "name": "conda-env-anaconda-panel-2023.05-py310-py"
  },
  "language_info": {
   "codemirror_mode": {
    "name": "ipython",
    "version": 3
   },
   "file_extension": ".py",
   "mimetype": "text/x-python",
   "name": "python",
   "nbconvert_exporter": "python",
   "pygments_lexer": "ipython3",
   "version": "3.11.5"
  }
 },
 "nbformat": 4,
 "nbformat_minor": 5
}
