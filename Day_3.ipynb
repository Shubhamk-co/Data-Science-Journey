{
 "cells": [
  {
   "cell_type": "code",
   "execution_count": 1,
   "id": "ae03df8a-e0fe-482f-a34c-1b3b484409e4",
   "metadata": {},
   "outputs": [
    {
     "name": "stdin",
     "output_type": "stream",
     "text": [
      "Enter a character: q\n"
     ]
    },
    {
     "name": "stdout",
     "output_type": "stream",
     "text": [
      "exit....\n"
     ]
    }
   ],
   "source": [
    "#while loop\n",
    "\n",
    "while True:\n",
    "    char=input(\"Enter a character:\")\n",
    "    if char=='q':\n",
    "        print(\"exit....\")\n",
    "        break\n",
    "    else :\n",
    "        print(f\"you type this {char}\")"
   ]
  },
  {
   "cell_type": "code",
   "execution_count": 9,
   "id": "e45a83ca-e843-4e5f-bd91-7755d5ed85af",
   "metadata": {},
   "outputs": [
    {
     "name": "stdin",
     "output_type": "stream",
     "text": [
      "enter password : shuba\n"
     ]
    },
    {
     "name": "stdout",
     "output_type": "stream",
     "text": [
      "wrong password ❌ you have 2 left \n"
     ]
    },
    {
     "name": "stdin",
     "output_type": "stream",
     "text": [
      "enter password : shubham\n"
     ]
    },
    {
     "name": "stdout",
     "output_type": "stream",
     "text": [
      "Access granted✅ .....\n"
     ]
    }
   ],
   "source": [
    "attempt=3\n",
    "password=\"shubham\"\n",
    "while attempt>0:\n",
    "    user_input=input(\"enter password :\")\n",
    "    if user_input==password:\n",
    "        print(\"Access granted✅ .....\")\n",
    "        break\n",
    "    else :\n",
    "        attempt-=1\n",
    "        print(f\"wrong password ❌ you have {attempt} left \")"
   ]
  },
  {
   "cell_type": "code",
   "execution_count": 1,
   "id": "4086b505-cc2b-4ad3-bc29-2c9623d483d3",
   "metadata": {},
   "outputs": [
    {
     "name": "stdout",
     "output_type": "stream",
     "text": [
      "7\n",
      "14\n",
      "21\n",
      "28\n",
      "35\n",
      "42\n",
      "49\n",
      "56\n",
      "63\n",
      "70\n",
      "77\n",
      "84\n",
      "91\n",
      "98\n"
     ]
    }
   ],
   "source": [
    "num=1\n",
    "while num<=100:\n",
    "    if num%7==0:\n",
    "         print(num)\n",
    "    num+=1"
   ]
  },
  {
   "cell_type": "code",
   "execution_count": 2,
   "id": "af34c043-5010-4973-a667-c7031895f789",
   "metadata": {},
   "outputs": [
    {
     "name": "stdout",
     "output_type": "stream",
     "text": [
      "number : 1\n",
      "number : 2\n",
      "number : 3\n",
      "number : 4\n",
      "number : 5\n"
     ]
    }
   ],
   "source": [
    "#for loop\n",
    "#print number 1 to 5\n",
    "for i in range(1,6):\n",
    "    print(\"number :\",i)"
   ]
  },
  {
   "cell_type": "code",
   "execution_count": 16,
   "id": "d2f78fcb-67a8-4bff-93b7-8cc7a98b2a80",
   "metadata": {},
   "outputs": [
    {
     "name": "stdin",
     "output_type": "stream",
     "text": [
      "enter password  : shubha\n"
     ]
    },
    {
     "name": "stdout",
     "output_type": "stream",
     "text": [
      "wrong password 2.....\n"
     ]
    },
    {
     "name": "stdin",
     "output_type": "stream",
     "text": [
      "enter password  : shubam\n"
     ]
    },
    {
     "name": "stdout",
     "output_type": "stream",
     "text": [
      "wrong password 1.....\n"
     ]
    },
    {
     "name": "stdin",
     "output_type": "stream",
     "text": [
      "enter password  : shubham\n"
     ]
    },
    {
     "name": "stdout",
     "output_type": "stream",
     "text": [
      "Access granted....\n"
     ]
    }
   ],
   "source": [
    "password = \"shubham\"\n",
    "attempt=3\n",
    "for i in range (attempt):\n",
    "    user_input=input(\"enter password  :\")\n",
    "    if password==user_input:\n",
    "        print(\"Access granted....\")\n",
    "        break\n",
    "    else:\n",
    "        attempt-=1\n",
    "        print(f\"wrong password {attempt}.....\")"
   ]
  },
  {
   "cell_type": "code",
   "execution_count": 13,
   "id": "e4270795-83fc-4bec-b8f6-90ec17067f32",
   "metadata": {},
   "outputs": [
    {
     "name": "stdout",
     "output_type": "stream",
     "text": [
      "1\n",
      "2\n",
      "4\n",
      "5\n"
     ]
    }
   ],
   "source": [
    "#continue \n",
    "for i in range(1,6):\n",
    "    if i==3:\n",
    "        continue\n",
    "    print(i)"
   ]
  },
  {
   "cell_type": "code",
   "execution_count": 15,
   "id": "6cd01517-3cd3-4754-9e3a-f2c59207b0e1",
   "metadata": {},
   "outputs": [
    {
     "name": "stdout",
     "output_type": "stream",
     "text": [
      "1\n",
      "2\n",
      "3\n",
      "4\n",
      "6\n",
      "7\n"
     ]
    }
   ],
   "source": [
    "for i in range(1,11):\n",
    "    if i==5:\n",
    "        continue \n",
    "    elif i==8:\n",
    "        break\n",
    "    else:\n",
    "        print(i)"
   ]
  },
  {
   "cell_type": "code",
   "execution_count": 3,
   "id": "a672eea2-6b21-431e-a7c2-b6b83fb15d6d",
   "metadata": {},
   "outputs": [
    {
     "name": "stdin",
     "output_type": "stream",
     "text": [
      "enter password  : shub\n"
     ]
    },
    {
     "name": "stdout",
     "output_type": "stream",
     "text": [
      "wrong password 4.....\n"
     ]
    },
    {
     "name": "stdin",
     "output_type": "stream",
     "text": [
      "enter password  : sh\n"
     ]
    },
    {
     "name": "stdout",
     "output_type": "stream",
     "text": [
      "wrong password 3.....\n"
     ]
    },
    {
     "name": "stdin",
     "output_type": "stream",
     "text": [
      "enter password  : shubham\n"
     ]
    },
    {
     "name": "stdout",
     "output_type": "stream",
     "text": [
      "Access granted....\n"
     ]
    }
   ],
   "source": [
    "password = \"shubham\"\n",
    "attempt=5\n",
    "for i in range (attempt):\n",
    "    user_input=input(\"enter password  :\")\n",
    "    if password==user_input:\n",
    "        print(\"Access granted....\")\n",
    "        break\n",
    "    elif user_input==\"forgot password \":\n",
    "        \n",
    "        print(\"\")\n",
    "    else:\n",
    "        attempt-=1\n",
    "        print(f\"wrong password {attempt}.....\")"
   ]
  },
  {
   "cell_type": "code",
   "execution_count": null,
   "id": "7f36a78e-8d27-4938-8389-a9f580e3c2ad",
   "metadata": {},
   "outputs": [],
   "source": [
    "word = \"PYTHONPROGRAMMING\"\n",
    "\n",
    "for letter in word:\n",
    "    if letter.lower() == 'o':\n",
    "        continue   # Skip 'o'\n",
    "    if letter.lower() == 'n':\n",
    "        print(\" Breaking at 'n'\")\n",
    "        break      # Stop at 'n'\n",
    "    print(\" Letter:\", letter)"
   ]
  },
  {
   "cell_type": "code",
   "execution_count": null,
   "id": "d06ee6d8-568a-41c2-b1b6-8cdda0f86661",
   "metadata": {},
   "outputs": [],
   "source": [
    "def shubham():\n",
    "    print(\"hello world \")\n",
    "shubham()"
   ]
  },
  {
   "cell_type": "code",
   "execution_count": 22,
   "id": "ab09679e-177d-4902-8a60-3886e4cb10ec",
   "metadata": {},
   "outputs": [],
   "source": [
    "x=0\n",
    "if x: print('Hello') \n"
   ]
  },
  {
   "cell_type": "code",
   "execution_count": 24,
   "id": "2dc6f412-09b6-442f-80c0-5cba776ec841",
   "metadata": {},
   "outputs": [],
   "source": [
    "while False: \n",
    "    print('Hi')"
   ]
  },
  {
   "cell_type": "code",
   "execution_count": 25,
   "id": "8ce9b786-88b1-4aa5-84bc-86f808ca541c",
   "metadata": {},
   "outputs": [
    {
     "name": "stdout",
     "output_type": "stream",
     "text": [
      "Hello world \n"
     ]
    }
   ],
   "source": [
    "a=\"Hello world \"\n",
    "print(a)"
   ]
  },
  {
   "cell_type": "code",
   "execution_count": 26,
   "id": "c605236f-1ba3-44f4-a707-6eb21f5779c4",
   "metadata": {},
   "outputs": [
    {
     "name": "stdin",
     "output_type": "stream",
     "text": [
      "enter a number  4\n",
      "enter a number  5\n"
     ]
    },
    {
     "name": "stdout",
     "output_type": "stream",
     "text": [
      "9\n"
     ]
    }
   ],
   "source": [
    "a=int (input(\"enter a number \"))\n",
    "b=int (input(\"enter a number \"))\n",
    "sum=a+b\n",
    "print(sum)\n"
   ]
  },
  {
   "cell_type": "code",
   "execution_count": 28,
   "id": "3a7fbb1b-7491-4adf-9f67-f9f94e213524",
   "metadata": {},
   "outputs": [
    {
     "name": "stdin",
     "output_type": "stream",
     "text": [
      "enter a number  8\n"
     ]
    },
    {
     "name": "stdout",
     "output_type": "stream",
     "text": [
      "even number \n"
     ]
    }
   ],
   "source": [
    "a=int (input(\"enter a number \"))\n",
    "if a%2==0:\n",
    "      print(\"even number \")\n",
    "else :\n",
    "      print(\"odd number \")"
   ]
  },
  {
   "cell_type": "code",
   "execution_count": 30,
   "id": "296fb110-c570-41eb-a60e-b6f8acb46141",
   "metadata": {},
   "outputs": [
    {
     "name": "stdin",
     "output_type": "stream",
     "text": [
      "Enter number  -8\n"
     ]
    },
    {
     "name": "stdout",
     "output_type": "stream",
     "text": [
      "negative number \n"
     ]
    }
   ],
   "source": [
    "num=int(input(\"Enter number \"))\n",
    "if num>0:\n",
    "       print(\"positive number \")\n",
    "elif num<0:\n",
    "       print(\"negative number \")"
   ]
  },
  {
   "cell_type": "code",
   "execution_count": 32,
   "id": "42538238-b253-4135-b7bd-106cc905bcf3",
   "metadata": {},
   "outputs": [
    {
     "name": "stdout",
     "output_type": "stream",
     "text": [
      "1\n",
      "2\n",
      "3\n",
      "4\n",
      "5\n",
      "6\n",
      "7\n",
      "8\n",
      "9\n",
      "10\n"
     ]
    }
   ],
   "source": [
    "i=1\n",
    "while i<=10 :\n",
    "      print(i)\n",
    "      i+=1"
   ]
  },
  {
   "cell_type": "code",
   "execution_count": 34,
   "id": "ae7ad9db-3c16-4fa7-b571-f6ab5e55b499",
   "metadata": {},
   "outputs": [
    {
     "name": "stdin",
     "output_type": "stream",
     "text": [
      "Enter number  5\n"
     ]
    },
    {
     "name": "stdout",
     "output_type": "stream",
     "text": [
      "5X1 5\n",
      "5X2 10\n",
      "5X3 15\n",
      "5X4 20\n",
      "5X5 25\n",
      "5X6 30\n",
      "5X7 35\n",
      "5X8 40\n",
      "5X9 45\n",
      "5X10 50\n"
     ]
    }
   ],
   "source": [
    "num=int(input(\"Enter number \"))\n",
    "for i in range (1,11):\n",
    "        print(f\"{num}X{i}\",num*i)"
   ]
  },
  {
   "cell_type": "code",
   "execution_count": 5,
   "id": "ddde0bbe-4567-4537-b76f-550c26fa99f4",
   "metadata": {},
   "outputs": [
    {
     "name": "stdout",
     "output_type": "stream",
     "text": [
      "odd number \n",
      "even number \n",
      "even number \n",
      "even number \n",
      "even number \n"
     ]
    }
   ],
   "source": [
    "l=[1,2,6,4,8,]\n",
    "for i in l:\n",
    "     if i%2==0:\n",
    "      print(\"even number \")\n",
    "     else :\n",
    "        print(\"odd number \")"
   ]
  },
  {
   "cell_type": "code",
   "execution_count": 42,
   "id": "cdb3b3b6-6854-409e-a1df-1afc8546f98b",
   "metadata": {},
   "outputs": [
    {
     "name": "stdout",
     "output_type": "stream",
     "text": [
      "9\n"
     ]
    }
   ],
   "source": [
    "lis=[1,2,3,4,5,6,7]\n",
    "add=0\n",
    "for i in lis:\n",
    "        add+=i\n",
    "print(sum)"
   ]
  },
  {
   "cell_type": "code",
   "execution_count": 45,
   "id": "911ba87f-4f7f-4435-8d4e-9f3483dbd591",
   "metadata": {},
   "outputs": [
    {
     "name": "stdout",
     "output_type": "stream",
     "text": [
      "28\n"
     ]
    }
   ],
   "source": [
    "lis=[1,2,3,4,5,6,7]\n",
    "add=0\n",
    "for i in lis:\n",
    "        add+=i\n",
    "print(add)"
   ]
  },
  {
   "cell_type": "code",
   "execution_count": null,
   "id": "63edc681-d143-411d-95dc-4a67f6635fb4",
   "metadata": {},
   "outputs": [],
   "source": []
  }
 ],
 "metadata": {
  "kernelspec": {
   "display_name": "anaconda-panel-2023.05-py310",
   "language": "python",
   "name": "conda-env-anaconda-panel-2023.05-py310-py"
  },
  "language_info": {
   "codemirror_mode": {
    "name": "ipython",
    "version": 3
   },
   "file_extension": ".py",
   "mimetype": "text/x-python",
   "name": "python",
   "nbconvert_exporter": "python",
   "pygments_lexer": "ipython3",
   "version": "3.11.5"
  }
 },
 "nbformat": 4,
 "nbformat_minor": 5
}
